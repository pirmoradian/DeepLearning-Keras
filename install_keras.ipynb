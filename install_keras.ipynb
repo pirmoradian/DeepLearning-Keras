{
 "cells": [
  {
   "cell_type": "markdown",
   "metadata": {},
   "source": [
    "# Tutorial on how to install Keras with Tensorflow backend"
   ]
  },
  {
   "cell_type": "markdown",
   "metadata": {},
   "source": [
    "Keras is a powerful Python library for developing and evaluating deep learning models. \n",
    "It wraps the efficient numerical computation libraries Theano and TensorFlow and allows you to define and train neural network models in a few short lines of code. In this tutorial you will learn how to install Keras with Tensor backend."
   ]
  },
  {
   "cell_type": "markdown",
   "metadata": {},
   "source": [
    "The Tensorflow official website: https://www.tensorflow.org/install/"
   ]
  },
  {
   "cell_type": "markdown",
   "metadata": {},
   "source": [
    "## Using Anaconda package manager"
   ]
  },
  {
   "cell_type": "markdown",
   "metadata": {},
   "source": [
    "### Step(1) Install Anaconda"
   ]
  },
  {
   "cell_type": "markdown",
   "metadata": {},
   "source": [
    "a) Download the commandline installer:\n",
    "\n",
    "https://www.continuum.io/downloads"
   ]
  },
  {
   "cell_type": "markdown",
   "metadata": {},
   "source": [
    "b) Type this in your terminal window:\n",
    "\n",
    "<div class=\"bash\">\n",
    "bash Anaconda2-4.4.0-MacOSX-x86_64.sh \n",
    "</div>"
   ]
  },
  {
   "cell_type": "markdown",
   "metadata": {},
   "source": [
    "c) Check your default path:\n",
    "\n",
    "<div class=\"bash\">\n",
    "echo \\$PATH\n",
    "<br> echo \\$PYTHONPATH\n",
    "<br> vi ~/.profile\n",
    "</div>\n",
    "\n"
   ]
  },
  {
   "cell_type": "markdown",
   "metadata": {},
   "source": [
    "### Step(2) Install Tensorflow on Anaconda"
   ]
  },
  {
   "cell_type": "markdown",
   "metadata": {},
   "source": [
    "a) Create an Anaconda environment for installation of Tensorflow and Keras, e.g. named \"tensorflow\""
   ]
  },
  {
   "cell_type": "markdown",
   "metadata": {},
   "source": [
    "<div class=\"bash\">\n",
    "conda create --name tensorflow\n",
    "</div>"
   ]
  },
  {
   "cell_type": "markdown",
   "metadata": {},
   "source": [
    "b) Activate the enviroment you wish to export"
   ]
  },
  {
   "cell_type": "markdown",
   "metadata": {},
   "source": [
    "<div class=\"bash\">\n",
    "source activate tensorflow\n",
    "</div>"
   ]
  },
  {
   "cell_type": "markdown",
   "metadata": {},
   "source": [
    "c) Install Tensorflow libraries"
   ]
  },
  {
   "cell_type": "markdown",
   "metadata": {},
   "source": [
    "<div class=\"bash\">\n",
    "conda install --channel conda-forge tensorflow\n",
    "</div>\n",
    "conda-forge is an additional channel to look for tensorflow"
   ]
  },
  {
   "cell_type": "markdown",
   "metadata": {},
   "source": [
    "### Step(3) Install Keras on Anaconda"
   ]
  },
  {
   "cell_type": "markdown",
   "metadata": {},
   "source": [
    "<div class=\"bash\">\n",
    "conda install -c conda-forge keras \n",
    "</div>"
   ]
  },
  {
   "cell_type": "markdown",
   "metadata": {},
   "source": [
    "### Step(4) Install iPython and Jupyter (iPython Notebook)"
   ]
  },
  {
   "cell_type": "markdown",
   "metadata": {},
   "source": [
    "a) Verify that iPython and Jupyter are not yet installed in the tensorflow environment\n",
    "\n",
    "<div class=\"bash\">\n",
    "which python\n",
    "</div>\n",
    "/Users/username/anaconda/envs/tensorflow/bin/python\n",
    "\n",
    "<div class=\"bash\">\n",
    "which ipython\n",
    "</div>\n",
    "/Users/username/anaconda/bin/ipython\n",
    "\n",
    "<div class=\"bash\">\n",
    "which jupyter\n",
    "</div>\n",
    "/Users/username/anaconda/bin/jupyter"
   ]
  },
  {
   "cell_type": "markdown",
   "metadata": {},
   "source": [
    "b) Install iPython"
   ]
  },
  {
   "cell_type": "markdown",
   "metadata": {},
   "source": [
    "<div class=\"bash\">\n",
    "conda install ipython\n",
    "\n",
    "</div>\n"
   ]
  },
  {
   "cell_type": "markdown",
   "metadata": {},
   "source": [
    "c) Install Jupyter\n",
    "\n",
    "<div class=\"bash\">\n",
    "conda install jupyter\n",
    "</div>\n"
   ]
  },
  {
   "cell_type": "markdown",
   "metadata": {},
   "source": [
    "Great! You have everything installed to do your first deep learning exercise!"
   ]
  },
  {
   "cell_type": "code",
   "execution_count": 44,
   "metadata": {},
   "outputs": [
    {
     "data": {
      "text/html": [
       "<style>div.bash { color: white; background-color: black; padding: 15px; font-size: 16px; font-family: Arial;width: 500px;border: 25px solid;}</style>"
      ],
      "text/plain": [
       "<IPython.core.display.HTML object>"
      ]
     },
     "execution_count": 44,
     "metadata": {},
     "output_type": "execute_result"
    }
   ],
   "source": [
    "#needed for text and cell styling\n",
    "from IPython.display import HTML\n",
    "style = \"<style>div.warn { background-color: #fcf2f2;border-color: #dFb5b4; border-left: 5px solid #dfb5b4; padding: 0.5em;}</style>\"\n",
    "style = \"<style>div.bash { color: white; background-color: black; padding: 15px; font-size: 16px; font-family: Arial;width: 500px;border: 25px solid;}</style>\"\n",
    "HTML(style)"
   ]
  },
  {
   "cell_type": "code",
   "execution_count": 45,
   "metadata": {},
   "outputs": [
    {
     "data": {
      "text/html": [
       "<style type=\"text/css\">\n",
       ".rendered_html code  {\n",
       "   background-color:#E8E8E8;\n",
       "   padding: 3px;\n",
       "};\n",
       "</style>"
      ],
      "text/plain": [
       "<IPython.core.display.HTML object>"
      ]
     },
     "metadata": {},
     "output_type": "display_data"
    }
   ],
   "source": [
    "%%html\n",
    "<style type=\"text/css\">\n",
    ".rendered_html code  {\n",
    "   background-color:#E8E8E8;\n",
    "   padding: 3px;\n",
    "};\n",
    "</style>"
   ]
  }
 ],
 "metadata": {
  "kernelspec": {
   "display_name": "Python 2",
   "language": "python",
   "name": "python2"
  },
  "language_info": {
   "codemirror_mode": {
    "name": "ipython",
    "version": 2
   },
   "file_extension": ".py",
   "mimetype": "text/x-python",
   "name": "python",
   "nbconvert_exporter": "python",
   "pygments_lexer": "ipython2",
   "version": "2.7.13"
  }
 },
 "nbformat": 4,
 "nbformat_minor": 2
}
